{
 "cells": [
  {
   "cell_type": "markdown",
   "id": "69914050",
   "metadata": {},
   "source": [
    "# Daily Coding Problem 46"
   ]
  },
  {
   "cell_type": "raw",
   "id": "8930fc30",
   "metadata": {},
   "source": [
    "This problem was asked by Amazon.\n",
    "\n",
    "Given a string, find the longest palindromic contiguous substring. If there are more than one with the maximum length, return any one.\n",
    "\n",
    "For example, the longest palindromic substring of \"aabcdcb\" is \"bcdcb\". The longest palindromic substring of \"bananas\" is \"anana\"."
   ]
  },
  {
   "cell_type": "markdown",
   "id": "230bed0e",
   "metadata": {},
   "source": [
    "# Solution\n",
    "\n",
    "Let's go through an example with the word \"bananas\".\n",
    "\n",
    "b\ta\tn\ta\tn\ta\ts\n",
    "b\tt\tf\tf\tf\tf\tf\tf\n",
    "a\t\tt\tf\tt\tf\tt\tf\n",
    "n\t\t\tt\tf\tt\tf\tf\n",
    "a\t\t\t\tt\tf\tf\tf\n",
    "n\t\t\t\t\tt\tf\tf\n",
    "a\t\t\t\t\t\tt\tf\n",
    "s\t\t\t\t\t\t\tt\n",
    "We can see from this table that the longest palindromic substring here is \"ananas\", since A[1:5] is the longest substring that's true in the table."
   ]
  },
  {
   "cell_type": "code",
   "execution_count": 1,
   "id": "a1eeecea",
   "metadata": {},
   "outputs": [
    {
     "name": "stdout",
     "output_type": "stream",
     "text": [
      "anana\n"
     ]
    }
   ],
   "source": [
    "def longest_palindrome(s):\n",
    "    if not s:\n",
    "        return ''\n",
    "\n",
    "    longest = s[0]\n",
    "    A = [[None for _ in range(len(s))] for _ in range(len(s))]\n",
    "\n",
    "    # Set all substrings of length 1 to be true\n",
    "    for i in range(len(s)):\n",
    "        A[i][i] = True\n",
    "\n",
    "    # Try all substrings of length 2\n",
    "    for i in range(len(s) - 1):\n",
    "        A[i][i + 1] = s[i] == s[i + 1]\n",
    "\n",
    "    i, k = 0, 3\n",
    "    while k <= len(s):\n",
    "        while i < (len(s) - k + 1) :\n",
    "            j = i + k - 1\n",
    "            A[i][j] = A[i + 1][j - 1] and s[i] == s[j]\n",
    "            # Update longest if necessary\n",
    "            if A[i][j] and len(s[i:j + 1]) > len(longest):\n",
    "                longest = s[i:j + 1]\n",
    "            i += 1\n",
    "        k += 1\n",
    "        i = 0\n",
    "    return longest\n",
    "\n",
    "print(longest_palindrome('bananas'))"
   ]
  },
  {
   "cell_type": "markdown",
   "id": "15d09c3d",
   "metadata": {},
   "source": [
    "This runs in O(N^2) time and space."
   ]
  },
  {
   "cell_type": "code",
   "execution_count": null,
   "id": "daebd599",
   "metadata": {},
   "outputs": [],
   "source": []
  }
 ],
 "metadata": {
  "kernelspec": {
   "display_name": "Python 3 (ipykernel)",
   "language": "python",
   "name": "python3"
  },
  "language_info": {
   "codemirror_mode": {
    "name": "ipython",
    "version": 3
   },
   "file_extension": ".py",
   "mimetype": "text/x-python",
   "name": "python",
   "nbconvert_exporter": "python",
   "pygments_lexer": "ipython3",
   "version": "3.8.10"
  }
 },
 "nbformat": 4,
 "nbformat_minor": 5
}
